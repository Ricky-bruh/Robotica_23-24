{
 "cells": [
  {
   "cell_type": "markdown",
   "id": "6a91f46a-d573-438c-b25a-0d10909133ef",
   "metadata": {},
   "source": [
    "# ROBOTICA 2023-2024"
   ]
  },
  {
   "cell_type": "code",
   "execution_count": null,
   "id": "197d7614-e1a2-477d-861f-0f8530f11201",
   "metadata": {},
   "outputs": [],
   "source": []
  },
  {
   "cell_type": "markdown",
   "id": "d216f5fc-f0d1-453b-97a4-0a3f3b03267a",
   "metadata": {},
   "source": [
    "### Variabili ed Input Utente"
   ]
  },
  {
   "cell_type": "code",
   "execution_count": 1,
   "id": "65290dd4-46da-4474-bf34-91c415ea1777",
   "metadata": {},
   "outputs": [
    {
     "name": "stdin",
     "output_type": "stream",
     "text": [
      "Inserisci il tuo nome:  Ricky\n"
     ]
    },
    {
     "name": "stdout",
     "output_type": "stream",
     "text": [
      "Ciao Ricky !\n"
     ]
    }
   ],
   "source": [
    "nome = input(\"Inserisci il tuo nome: \")\n",
    "print(\"Ciao\", nome, \"!\")"
   ]
  },
  {
   "cell_type": "code",
   "execution_count": 2,
   "id": "034711cd-0409-451b-a40b-66ccf99eaed7",
   "metadata": {},
   "outputs": [
    {
     "name": "stdout",
     "output_type": "stream",
     "text": [
      "Ricky\n"
     ]
    }
   ],
   "source": [
    "nome = \"Ricky\"\n",
    "print(nome)"
   ]
  },
  {
   "cell_type": "code",
   "execution_count": 3,
   "id": "ebb5543b-1a64-4a6f-9970-3cecfc8d2f3e",
   "metadata": {},
   "outputs": [
    {
     "name": "stdin",
     "output_type": "stream",
     "text": [
      "Inserisci nome della via:  Via Accademia\n"
     ]
    },
    {
     "name": "stdout",
     "output_type": "stream",
     "text": [
      "Hai inserito Via Accademia\n"
     ]
    }
   ],
   "source": [
    "Via = input(\"Inserisci nome della via: \")\n",
    "print(\"Hai inserito\", Via)"
   ]
  },
  {
   "cell_type": "code",
   "execution_count": null,
   "id": "5ef8687a-d078-4095-9004-04cc8c0c4da1",
   "metadata": {},
   "outputs": [],
   "source": []
  },
  {
   "cell_type": "markdown",
   "id": "0df76585-15af-4d10-aa39-55abb3bf6af1",
   "metadata": {},
   "source": [
    "### Codice ripetuto più volte"
   ]
  },
  {
   "cell_type": "code",
   "execution_count": 4,
   "id": "d11d0514-3396-48dd-9fe0-28c471e32728",
   "metadata": {},
   "outputs": [
    {
     "name": "stdin",
     "output_type": "stream",
     "text": [
      "Inserisci il tuo nome:  Ricky\n"
     ]
    },
    {
     "name": "stdout",
     "output_type": "stream",
     "text": [
      "Ciao Ricky !\n",
      "Ciao Ricky !\n",
      "Ciao Ricky !\n"
     ]
    }
   ],
   "source": [
    "nome = input(\"Inserisci il tuo nome: \")\n",
    "for contatore in range(3):\n",
    "    print(\"Ciao\", nome, \"!\") #Ripeterà solo quello dentro l'indentazione"
   ]
  },
  {
   "cell_type": "code",
   "execution_count": null,
   "id": "cbe158f3-f13a-4e02-b758-03175c1faeb8",
   "metadata": {},
   "outputs": [],
   "source": []
  },
  {
   "cell_type": "markdown",
   "id": "f63e3f96-f3f9-47f5-b1de-45c6478d9776",
   "metadata": {},
   "source": [
    "### Calcolare"
   ]
  },
  {
   "cell_type": "markdown",
   "id": "8581b4df-ddc9-4e6f-b46b-a2649429aaac",
   "metadata": {},
   "source": [
    "#### Addizione"
   ]
  },
  {
   "cell_type": "code",
   "execution_count": 5,
   "id": "a84e4119-9211-45e8-9b76-ed7262c63ead",
   "metadata": {},
   "outputs": [
    {
     "name": "stdin",
     "output_type": "stream",
     "text": [
      "Inserisci il primo numero:  4\n",
      "Inserisci il secondo numero:  8\n"
     ]
    },
    {
     "name": "stdout",
     "output_type": "stream",
     "text": [
      "La somma è: 12\n"
     ]
    }
   ],
   "source": [
    "numero1 = int(input(\"Inserisci il primo numero: \"))\n",
    "numero2 = int(input(\"Inserisci il secondo numero: \"))\n",
    "somma = numero1 + numero2\n",
    "print(\"La somma è:\", somma)"
   ]
  },
  {
   "cell_type": "markdown",
   "id": "6f11e246-8045-40d0-adfa-a0ce9ef33eb8",
   "metadata": {},
   "source": [
    "#### Sottrazione"
   ]
  },
  {
   "cell_type": "code",
   "execution_count": 6,
   "id": "69eac01a-4bba-4c7b-8ad4-a8b002b342b0",
   "metadata": {},
   "outputs": [
    {
     "name": "stdout",
     "output_type": "stream",
     "text": [
      "La sottrazioneè: -4\n"
     ]
    }
   ],
   "source": [
    "sottrazione = numero1 - numero2\n",
    "print(\"La sottrazioneè:\", sottrazione)"
   ]
  },
  {
   "cell_type": "markdown",
   "id": "3104d5b9-32f2-4c80-918d-49b8158cacfb",
   "metadata": {},
   "source": [
    "#### Moltiplicazione"
   ]
  },
  {
   "cell_type": "code",
   "execution_count": 7,
   "id": "55411582-1ddf-4013-a1c5-6a8611c5dbdd",
   "metadata": {},
   "outputs": [
    {
     "name": "stdin",
     "output_type": "stream",
     "text": [
      "Inserisci il pirmo numero:  2\n",
      "Inserisci il secondo numero:  2\n"
     ]
    },
    {
     "name": "stdout",
     "output_type": "stream",
     "text": [
      "La moltiplicazione è: 4\n"
     ]
    }
   ],
   "source": [
    "numero1 = int(input(\"Inserisci il pirmo numero: \"))\n",
    "numero2 = int(input(\"Inserisci il secondo numero: \"))\n",
    "moltiplicazione = numero1 * numero2\n",
    "print(\"La moltiplicazione è:\", moltiplicazione)"
   ]
  },
  {
   "cell_type": "markdown",
   "id": "01574738-4725-4e03-b210-d1934f6ed971",
   "metadata": {},
   "source": [
    "#### Divisione"
   ]
  },
  {
   "cell_type": "code",
   "execution_count": 8,
   "id": "6c0233f0-3c37-46d8-a8c5-e3057a40e7e0",
   "metadata": {},
   "outputs": [
    {
     "name": "stdin",
     "output_type": "stream",
     "text": [
      "Inserisci il pirmo numero:  4\n",
      "Inserisci il secondo numero:  4\n"
     ]
    },
    {
     "name": "stdout",
     "output_type": "stream",
     "text": [
      "La divisione è: 1.0\n"
     ]
    }
   ],
   "source": [
    "numero1 = int(input(\"Inserisci il pirmo numero: \"))\n",
    "numero2 = int(input(\"Inserisci il secondo numero: \"))\n",
    "divisione = numero1 / numero2\n",
    "print(\"La divisione è:\", divisione)"
   ]
  },
  {
   "cell_type": "code",
   "execution_count": null,
   "id": "5869342b-172e-453c-b92a-36b24087a3a7",
   "metadata": {},
   "outputs": [],
   "source": []
  },
  {
   "cell_type": "markdown",
   "id": "c09dabd1-f192-4053-b1db-5ec5c1617eab",
   "metadata": {},
   "source": [
    "### Loop e Ripetizioni"
   ]
  },
  {
   "cell_type": "code",
   "execution_count": 9,
   "id": "ae3e4b43-185e-4023-8732-b80580949a5a",
   "metadata": {},
   "outputs": [
    {
     "name": "stdout",
     "output_type": "stream",
     "text": [
      "0\n",
      "1\n",
      "2\n",
      "3\n",
      "4\n",
      "5\n",
      "6\n",
      "7\n",
      "8\n",
      "9\n",
      "10\n"
     ]
    }
   ],
   "source": [
    "for numero in range(11): #il range parte da 0 ed arriva a 11\n",
    "    print(numero)"
   ]
  },
  {
   "cell_type": "code",
   "execution_count": 10,
   "id": "66fb10e5-a2e8-48aa-9576-29da4ab154a1",
   "metadata": {},
   "outputs": [
    {
     "name": "stdout",
     "output_type": "stream",
     "text": [
      "1\n",
      "2\n",
      "3\n",
      "4\n",
      "5\n",
      "6\n",
      "7\n",
      "8\n",
      "9\n",
      "10\n"
     ]
    }
   ],
   "source": [
    "for numero in range(1,11): #il range parte da 1 ed arriva a 11\n",
    "    print(numero)"
   ]
  },
  {
   "cell_type": "code",
   "execution_count": null,
   "id": "aca538d1-a775-4f23-a122-0bbc706d433b",
   "metadata": {},
   "outputs": [],
   "source": []
  },
  {
   "cell_type": "markdown",
   "id": "dde02f34-9dee-4e80-8d1b-d7e8d1a33166",
   "metadata": {},
   "source": [
    "### Condizioni"
   ]
  },
  {
   "cell_type": "code",
   "execution_count": 11,
   "id": "a3e133dd-4fc5-47b4-9fff-5a40a6dd1161",
   "metadata": {},
   "outputs": [
    {
     "name": "stdin",
     "output_type": "stream",
     "text": [
      "Inserisci l'operazione (+, -, *, /):  *\n",
      "Inserisci il primo numero:  4\n",
      "Inserisci il secondo numero:  4\n"
     ]
    },
    {
     "name": "stdout",
     "output_type": "stream",
     "text": [
      "Il risultato è: 16.0\n"
     ]
    }
   ],
   "source": [
    "operazione = input(\"Inserisci l'operazione (+, -, *, /): \")\n",
    "\n",
    "numero1 = float(input(\"Inserisci il primo numero: \"))\n",
    "numero2 = float(input(\"Inserisci il secondo numero: \"))\n",
    "\n",
    "if operazione == \"+\":\n",
    "    risultato = numero1 + numero2\n",
    "elif operazione == \"-\":\n",
    "    risultato = numero1 - numero2\n",
    "elif operazione == \"*\":\n",
    "    risultato = numero1 * numero2\n",
    "elif operazione == \"/\":\n",
    "    risultato = numero1 / numero2\n",
    "else:\n",
    "    risultato = \"Operazione non valida\"\n",
    "    \n",
    "print(\"Il risultato è:\", risultato)"
   ]
  },
  {
   "cell_type": "code",
   "execution_count": null,
   "id": "eccbfa24-7f91-4dea-8da8-224c34234061",
   "metadata": {},
   "outputs": [],
   "source": []
  },
  {
   "cell_type": "markdown",
   "id": "8a2a93f9-b583-4438-ba73-b10e6e37c681",
   "metadata": {},
   "source": [
    "### Conta fino a un N"
   ]
  },
  {
   "cell_type": "code",
   "execution_count": 12,
   "id": "7cf6141b-2738-4ac8-87f1-d4fae53e607c",
   "metadata": {},
   "outputs": [
    {
     "name": "stdin",
     "output_type": "stream",
     "text": [
      "Inserisci un numero intero positivo: 10\n"
     ]
    },
    {
     "name": "stdout",
     "output_type": "stream",
     "text": [
      "1\n",
      "2\n",
      "3\n",
      "4\n",
      "5\n",
      "6\n",
      "7\n",
      "8\n",
      "9\n",
      "10\n"
     ]
    }
   ],
   "source": [
    "n = int(input(\"Inserisci un numero intero positivo:\"))\n",
    "\n",
    "for numero in range(1,n+1):\n",
    "    print(numero)"
   ]
  },
  {
   "cell_type": "code",
   "execution_count": null,
   "id": "394cacd4-3c73-4cb5-90c8-0a4c70c04147",
   "metadata": {},
   "outputs": [],
   "source": []
  },
  {
   "cell_type": "markdown",
   "id": "566d7169-3d8a-4828-8efd-a3e53d1cf947",
   "metadata": {},
   "source": [
    "### Calcolare la Somma"
   ]
  },
  {
   "cell_type": "code",
   "execution_count": 13,
   "id": "4cd182ab-1b9a-4b45-a7a0-1c8a4ed6e2de",
   "metadata": {},
   "outputs": [
    {
     "name": "stdin",
     "output_type": "stream",
     "text": [
      "Inserisci un numero intero positivo:  3\n"
     ]
    },
    {
     "name": "stdout",
     "output_type": "stream",
     "text": [
      "La somma dei primi 3 numeri interi è: 6\n"
     ]
    }
   ],
   "source": [
    "n = int(input(\"Inserisci un numero intero positivo: \"))\n",
    "somma = 0\n",
    "\n",
    "for numero in range(1, n+1):\n",
    "    #somma = somma + numero\n",
    "    somma += numero\n",
    "print(\"La somma dei primi\", n, \"numeri interi è:\", somma)"
   ]
  },
  {
   "cell_type": "markdown",
   "id": "c3a83b6d-bc7a-4c51-9ab6-50e2611e9fec",
   "metadata": {},
   "source": []
  },
  {
   "cell_type": "markdown",
   "id": "27f0ad24-7741-499d-b345-e3d2da5aebaf",
   "metadata": {},
   "source": [
    "### Calcolare il Quadrato dei Primi Numeri"
   ]
  },
  {
   "cell_type": "code",
   "execution_count": 15,
   "id": "3097db4c-e1fc-4688-9604-eec40a17332f",
   "metadata": {},
   "outputs": [
    {
     "name": "stdin",
     "output_type": "stream",
     "text": [
      "Inserisci un numero intero positivo:  5\n"
     ]
    },
    {
     "name": "stdout",
     "output_type": "stream",
     "text": [
      "Quadrati dei primi 5 numeri:\n",
      "Il quadrato di 1 è 1\n",
      "Il quadrato di 2 è 4\n",
      "Il quadrato di 3 è 9\n",
      "Il quadrato di 4 è 16\n",
      "Il quadrato di 5 è 25\n"
     ]
    }
   ],
   "source": [
    "n = int(input(\"Inserisci un numero intero positivo: \"))\n",
    "\n",
    "print(\"Quadrati dei primi\", n, \"numeri:\")\n",
    "\n",
    "for numero in range (1, n+1):\n",
    "    quadrato = numero ** 2\n",
    "    print(\"Il quadrato di\", numero, \"è\", quadrato)"
   ]
  },
  {
   "cell_type": "code",
   "execution_count": null,
   "id": "be7240c8-7c22-42db-bfb0-057e635b9faf",
   "metadata": {},
   "outputs": [],
   "source": []
  },
  {
   "cell_type": "markdown",
   "id": "f889a09b-a379-42cc-8378-8fb8590f1f1c",
   "metadata": {},
   "source": [
    "### Verificare la Parità"
   ]
  },
  {
   "cell_type": "code",
   "execution_count": 16,
   "id": "2656552a-77e4-4eca-bbc6-14e04c6a40a6",
   "metadata": {},
   "outputs": [
    {
     "name": "stdin",
     "output_type": "stream",
     "text": [
      "Inserisci un numero:  6\n"
     ]
    },
    {
     "name": "stdout",
     "output_type": "stream",
     "text": [
      "6 é un numero pari.\n"
     ]
    }
   ],
   "source": [
    "numero = int(input(\"Inserisci un numero: \"))\n",
    "\n",
    "#Se input è DIVISIBILE(%) per 2 e ha resto 0 (== 0)\n",
    "if numero % 2 == 0:\n",
    "    print(numero, \"é un numero pari.\")\n",
    "else:\n",
    "    print(numero, \"è un numero dispari.\")"
   ]
  },
  {
   "cell_type": "code",
   "execution_count": null,
   "id": "c6a85c96-6765-42ec-9bdf-a6f4b0ab8443",
   "metadata": {},
   "outputs": [],
   "source": []
  },
  {
   "cell_type": "markdown",
   "id": "00238848-2b96-4d88-a040-63c221dbbbec",
   "metadata": {},
   "source": [
    "### Calcolare il Fattoriale"
   ]
  },
  {
   "cell_type": "code",
   "execution_count": 17,
   "id": "a55a5c3e-11d6-4354-8fea-ff8dd53974a7",
   "metadata": {},
   "outputs": [
    {
     "name": "stdin",
     "output_type": "stream",
     "text": [
      "Inserire un numero intero positivo:  5\n"
     ]
    },
    {
     "name": "stdout",
     "output_type": "stream",
     "text": [
      "Il fattoriale di 5 è: 120\n"
     ]
    }
   ],
   "source": [
    "n = int(input(\"Inserire un numero intero positivo: \"))\n",
    "fattoriale = 1\n",
    "\n",
    "for numero in range(1, n+1):\n",
    "    #fattoriale = fattoriale * numero\n",
    "    fattoriale *= numero\n",
    "print(\"Il fattoriale di\", n, \"è:\", fattoriale)"
   ]
  },
  {
   "cell_type": "code",
   "execution_count": null,
   "id": "2fdc7e94-b0c5-4f5b-9176-5fa1926bf055",
   "metadata": {},
   "outputs": [],
   "source": []
  },
  {
   "cell_type": "markdown",
   "id": "29523263-10ef-47d4-8204-3f07608a6507",
   "metadata": {},
   "source": [
    "### Calcolare la media di una Lista di Numeri"
   ]
  },
  {
   "cell_type": "code",
   "execution_count": null,
   "id": "16a5f7a6-8422-4f03-98a3-e584d9b89adb",
   "metadata": {},
   "outputs": [],
   "source": []
  }
 ],
 "metadata": {
  "kernelspec": {
   "display_name": "Python 3 (ipykernel)",
   "language": "python",
   "name": "python3"
  },
  "language_info": {
   "codemirror_mode": {
    "name": "ipython",
    "version": 3
   },
   "file_extension": ".py",
   "mimetype": "text/x-python",
   "name": "python",
   "nbconvert_exporter": "python",
   "pygments_lexer": "ipython3",
   "version": "3.11.7"
  }
 },
 "nbformat": 4,
 "nbformat_minor": 5
}
