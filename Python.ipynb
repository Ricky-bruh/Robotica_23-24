{
 "cells": [
  {
   "cell_type": "markdown",
   "id": "6a91f46a-d573-438c-b25a-0d10909133ef",
   "metadata": {},
   "source": [
    "# ROBOTICA 2023-2024"
   ]
  },
  {
   "cell_type": "code",
   "execution_count": null,
   "id": "197d7614-e1a2-477d-861f-0f8530f11201",
   "metadata": {},
   "outputs": [],
   "source": []
  },
  {
   "cell_type": "markdown",
   "id": "d216f5fc-f0d1-453b-97a4-0a3f3b03267a",
   "metadata": {},
   "source": [
    "### Variabili ed Input Utente"
   ]
  },
  {
   "cell_type": "code",
   "execution_count": 1,
   "id": "65290dd4-46da-4474-bf34-91c415ea1777",
   "metadata": {},
   "outputs": [
    {
     "name": "stdin",
     "output_type": "stream",
     "text": [
      "Inserisci il tuo nome:  Ricky\n"
     ]
    },
    {
     "name": "stdout",
     "output_type": "stream",
     "text": [
      "Ciao Ricky !\n"
     ]
    }
   ],
   "source": [
    "nome = input(\"Inserisci il tuo nome: \")\n",
    "print(\"Ciao\", nome, \"!\")"
   ]
  },
  {
   "cell_type": "code",
   "execution_count": 2,
   "id": "034711cd-0409-451b-a40b-66ccf99eaed7",
   "metadata": {},
   "outputs": [
    {
     "name": "stdout",
     "output_type": "stream",
     "text": [
      "Ricky\n"
     ]
    }
   ],
   "source": [
    "nome = \"Ricky\"\n",
    "print(nome)"
   ]
  },
  {
   "cell_type": "code",
   "execution_count": 3,
   "id": "ebb5543b-1a64-4a6f-9970-3cecfc8d2f3e",
   "metadata": {},
   "outputs": [
    {
     "name": "stdin",
     "output_type": "stream",
     "text": [
      "Inserisci nome della via:  Via Accademia\n"
     ]
    },
    {
     "name": "stdout",
     "output_type": "stream",
     "text": [
      "Hai inserito Via Accademia\n"
     ]
    }
   ],
   "source": [
    "Via = input(\"Inserisci nome della via: \")\n",
    "print(\"Hai inserito\", Via)"
   ]
  },
  {
   "cell_type": "code",
   "execution_count": null,
   "id": "5ef8687a-d078-4095-9004-04cc8c0c4da1",
   "metadata": {},
   "outputs": [],
   "source": []
  },
  {
   "cell_type": "markdown",
   "id": "0df76585-15af-4d10-aa39-55abb3bf6af1",
   "metadata": {},
   "source": [
    "### Codice ripetuto più volte"
   ]
  },
  {
   "cell_type": "code",
   "execution_count": 4,
   "id": "d11d0514-3396-48dd-9fe0-28c471e32728",
   "metadata": {},
   "outputs": [
    {
     "name": "stdin",
     "output_type": "stream",
     "text": [
      "Inserisci il tuo nome:  Ricky\n"
     ]
    },
    {
     "name": "stdout",
     "output_type": "stream",
     "text": [
      "Ciao Ricky !\n",
      "Ciao Ricky !\n",
      "Ciao Ricky !\n"
     ]
    }
   ],
   "source": [
    "nome = input(\"Inserisci il tuo nome: \")\n",
    "for contatore in range(3):\n",
    "    print(\"Ciao\", nome, \"!\") #Ripeterà solo quello dentro l'indentazione"
   ]
  },
  {
   "cell_type": "code",
   "execution_count": null,
   "id": "cbe158f3-f13a-4e02-b758-03175c1faeb8",
   "metadata": {},
   "outputs": [],
   "source": []
  },
  {
   "cell_type": "markdown",
   "id": "f63e3f96-f3f9-47f5-b1de-45c6478d9776",
   "metadata": {},
   "source": [
    "### Calcolare"
   ]
  },
  {
   "cell_type": "markdown",
   "id": "8581b4df-ddc9-4e6f-b46b-a2649429aaac",
   "metadata": {},
   "source": [
    "#### Addizione"
   ]
  },
  {
   "cell_type": "code",
   "execution_count": 5,
   "id": "a84e4119-9211-45e8-9b76-ed7262c63ead",
   "metadata": {},
   "outputs": [
    {
     "name": "stdin",
     "output_type": "stream",
     "text": [
      "Inserisci il primo numero:  4\n",
      "Inserisci il secondo numero:  8\n"
     ]
    },
    {
     "name": "stdout",
     "output_type": "stream",
     "text": [
      "La somma è: 12\n"
     ]
    }
   ],
   "source": [
    "numero1 = int(input(\"Inserisci il primo numero: \"))\n",
    "numero2 = int(input(\"Inserisci il secondo numero: \"))\n",
    "somma = numero1 + numero2\n",
    "print(\"La somma è:\", somma)"
   ]
  },
  {
   "cell_type": "markdown",
   "id": "6f11e246-8045-40d0-adfa-a0ce9ef33eb8",
   "metadata": {},
   "source": [
    "#### Sottrazione"
   ]
  },
  {
   "cell_type": "code",
   "execution_count": 6,
   "id": "69eac01a-4bba-4c7b-8ad4-a8b002b342b0",
   "metadata": {},
   "outputs": [
    {
     "name": "stdout",
     "output_type": "stream",
     "text": [
      "La sottrazioneè: -4\n"
     ]
    }
   ],
   "source": [
    "sottrazione = numero1 - numero2\n",
    "print(\"La sottrazioneè:\", sottrazione)"
   ]
  },
  {
   "cell_type": "markdown",
   "id": "3104d5b9-32f2-4c80-918d-49b8158cacfb",
   "metadata": {},
   "source": [
    "#### Moltiplicazione"
   ]
  },
  {
   "cell_type": "code",
   "execution_count": 7,
   "id": "55411582-1ddf-4013-a1c5-6a8611c5dbdd",
   "metadata": {},
   "outputs": [
    {
     "name": "stdin",
     "output_type": "stream",
     "text": [
      "Inserisci il pirmo numero:  2\n",
      "Inserisci il secondo numero:  2\n"
     ]
    },
    {
     "name": "stdout",
     "output_type": "stream",
     "text": [
      "La moltiplicazione è: 4\n"
     ]
    }
   ],
   "source": [
    "numero1 = int(input(\"Inserisci il pirmo numero: \"))\n",
    "numero2 = int(input(\"Inserisci il secondo numero: \"))\n",
    "moltiplicazione = numero1 * numero2\n",
    "print(\"La moltiplicazione è:\", moltiplicazione)"
   ]
  },
  {
   "cell_type": "markdown",
   "id": "01574738-4725-4e03-b210-d1934f6ed971",
   "metadata": {},
   "source": [
    "#### Divisione"
   ]
  },
  {
   "cell_type": "code",
   "execution_count": 8,
   "id": "6c0233f0-3c37-46d8-a8c5-e3057a40e7e0",
   "metadata": {},
   "outputs": [
    {
     "name": "stdin",
     "output_type": "stream",
     "text": [
      "Inserisci il pirmo numero:  4\n",
      "Inserisci il secondo numero:  4\n"
     ]
    },
    {
     "name": "stdout",
     "output_type": "stream",
     "text": [
      "La divisione è: 1.0\n"
     ]
    }
   ],
   "source": [
    "numero1 = int(input(\"Inserisci il pirmo numero: \"))\n",
    "numero2 = int(input(\"Inserisci il secondo numero: \"))\n",
    "divisione = numero1 / numero2\n",
    "print(\"La divisione è:\", divisione)"
   ]
  },
  {
   "cell_type": "code",
   "execution_count": null,
   "id": "5869342b-172e-453c-b92a-36b24087a3a7",
   "metadata": {},
   "outputs": [],
   "source": []
  },
  {
   "cell_type": "markdown",
   "id": "c09dabd1-f192-4053-b1db-5ec5c1617eab",
   "metadata": {},
   "source": [
    "### Loop e Ripetizioni"
   ]
  },
  {
   "cell_type": "code",
   "execution_count": 9,
   "id": "ae3e4b43-185e-4023-8732-b80580949a5a",
   "metadata": {},
   "outputs": [
    {
     "name": "stdout",
     "output_type": "stream",
     "text": [
      "0\n",
      "1\n",
      "2\n",
      "3\n",
      "4\n",
      "5\n",
      "6\n",
      "7\n",
      "8\n",
      "9\n",
      "10\n"
     ]
    }
   ],
   "source": [
    "for numero in range(11): #il range parte da 0 ed arriva a 11\n",
    "    print(numero)"
   ]
  },
  {
   "cell_type": "code",
   "execution_count": 10,
   "id": "66fb10e5-a2e8-48aa-9576-29da4ab154a1",
   "metadata": {},
   "outputs": [
    {
     "name": "stdout",
     "output_type": "stream",
     "text": [
      "1\n",
      "2\n",
      "3\n",
      "4\n",
      "5\n",
      "6\n",
      "7\n",
      "8\n",
      "9\n",
      "10\n"
     ]
    }
   ],
   "source": [
    "for numero in range(1,11): #il range parte da 1 ed arriva a 11\n",
    "    print(numero)"
   ]
  },
  {
   "cell_type": "code",
   "execution_count": null,
   "id": "aca538d1-a775-4f23-a122-0bbc706d433b",
   "metadata": {},
   "outputs": [],
   "source": []
  },
  {
   "cell_type": "markdown",
   "id": "dde02f34-9dee-4e80-8d1b-d7e8d1a33166",
   "metadata": {},
   "source": [
    "### Condizioni"
   ]
  },
  {
   "cell_type": "code",
   "execution_count": 11,
   "id": "a3e133dd-4fc5-47b4-9fff-5a40a6dd1161",
   "metadata": {},
   "outputs": [
    {
     "name": "stdin",
     "output_type": "stream",
     "text": [
      "Inserisci l'operazione (+, -, *, /):  *\n",
      "Inserisci il primo numero:  4\n",
      "Inserisci il secondo numero:  4\n"
     ]
    },
    {
     "name": "stdout",
     "output_type": "stream",
     "text": [
      "Il risultato è: 16.0\n"
     ]
    }
   ],
   "source": [
    "operazione = input(\"Inserisci l'operazione (+, -, *, /): \")\n",
    "\n",
    "numero1 = float(input(\"Inserisci il primo numero: \"))\n",
    "numero2 = float(input(\"Inserisci il secondo numero: \"))\n",
    "\n",
    "if operazione == \"+\":\n",
    "    risultato = numero1 + numero2\n",
    "elif operazione == \"-\":\n",
    "    risultato = numero1 - numero2\n",
    "elif operazione == \"*\":\n",
    "    risultato = numero1 * numero2\n",
    "elif operazione == \"/\":\n",
    "    risultato = numero1 / numero2\n",
    "else:\n",
    "    risultato = \"Operazione non valida\"\n",
    "    \n",
    "print(\"Il risultato è:\", risultato)"
   ]
  },
  {
   "cell_type": "code",
   "execution_count": null,
   "id": "eccbfa24-7f91-4dea-8da8-224c34234061",
   "metadata": {},
   "outputs": [],
   "source": []
  },
  {
   "cell_type": "markdown",
   "id": "8a2a93f9-b583-4438-ba73-b10e6e37c681",
   "metadata": {},
   "source": [
    "### Conta fino a un N"
   ]
  },
  {
   "cell_type": "code",
   "execution_count": 12,
   "id": "7cf6141b-2738-4ac8-87f1-d4fae53e607c",
   "metadata": {},
   "outputs": [
    {
     "name": "stdin",
     "output_type": "stream",
     "text": [
      "Inserisci un numero intero positivo: 10\n"
     ]
    },
    {
     "name": "stdout",
     "output_type": "stream",
     "text": [
      "1\n",
      "2\n",
      "3\n",
      "4\n",
      "5\n",
      "6\n",
      "7\n",
      "8\n",
      "9\n",
      "10\n"
     ]
    }
   ],
   "source": [
    "n = int(input(\"Inserisci un numero intero positivo:\"))\n",
    "\n",
    "for numero in range(1,n+1):\n",
    "    print(numero)"
   ]
  },
  {
   "cell_type": "code",
   "execution_count": null,
   "id": "394cacd4-3c73-4cb5-90c8-0a4c70c04147",
   "metadata": {},
   "outputs": [],
   "source": []
  },
  {
   "cell_type": "markdown",
   "id": "566d7169-3d8a-4828-8efd-a3e53d1cf947",
   "metadata": {},
   "source": [
    "### Calcolare la Somma"
   ]
  },
  {
   "cell_type": "code",
   "execution_count": 13,
   "id": "4cd182ab-1b9a-4b45-a7a0-1c8a4ed6e2de",
   "metadata": {},
   "outputs": [
    {
     "name": "stdin",
     "output_type": "stream",
     "text": [
      "Inserisci un numero intero positivo:  3\n"
     ]
    },
    {
     "name": "stdout",
     "output_type": "stream",
     "text": [
      "La somma dei primi 3 numeri interi è: 6\n"
     ]
    }
   ],
   "source": [
    "n = int(input(\"Inserisci un numero intero positivo: \"))\n",
    "somma = 0\n",
    "\n",
    "for numero in range(1, n+1):\n",
    "    #somma = somma + numero\n",
    "    somma += numero\n",
    "print(\"La somma dei primi\", n, \"numeri interi è:\", somma)"
   ]
  },
  {
   "cell_type": "markdown",
   "id": "c3a83b6d-bc7a-4c51-9ab6-50e2611e9fec",
   "metadata": {},
   "source": []
  },
  {
   "cell_type": "markdown",
   "id": "27f0ad24-7741-499d-b345-e3d2da5aebaf",
   "metadata": {},
   "source": [
    "### Calcolare il Quadrato dei Primi Numeri"
   ]
  },
  {
   "cell_type": "code",
   "execution_count": 15,
   "id": "3097db4c-e1fc-4688-9604-eec40a17332f",
   "metadata": {},
   "outputs": [
    {
     "name": "stdin",
     "output_type": "stream",
     "text": [
      "Inserisci un numero intero positivo:  5\n"
     ]
    },
    {
     "name": "stdout",
     "output_type": "stream",
     "text": [
      "Quadrati dei primi 5 numeri:\n",
      "Il quadrato di 1 è 1\n",
      "Il quadrato di 2 è 4\n",
      "Il quadrato di 3 è 9\n",
      "Il quadrato di 4 è 16\n",
      "Il quadrato di 5 è 25\n"
     ]
    }
   ],
   "source": [
    "n = int(input(\"Inserisci un numero intero positivo: \"))\n",
    "\n",
    "print(\"Quadrati dei primi\", n, \"numeri:\")\n",
    "\n",
    "for numero in range (1, n+1):\n",
    "    quadrato = numero ** 2\n",
    "    print(\"Il quadrato di\", numero, \"è\", quadrato)"
   ]
  },
  {
   "cell_type": "code",
   "execution_count": null,
   "id": "be7240c8-7c22-42db-bfb0-057e635b9faf",
   "metadata": {},
   "outputs": [],
   "source": []
  },
  {
   "cell_type": "markdown",
   "id": "f889a09b-a379-42cc-8378-8fb8590f1f1c",
   "metadata": {},
   "source": [
    "### Verificare la Parità"
   ]
  },
  {
   "cell_type": "code",
   "execution_count": 16,
   "id": "2656552a-77e4-4eca-bbc6-14e04c6a40a6",
   "metadata": {},
   "outputs": [
    {
     "name": "stdin",
     "output_type": "stream",
     "text": [
      "Inserisci un numero:  6\n"
     ]
    },
    {
     "name": "stdout",
     "output_type": "stream",
     "text": [
      "6 é un numero pari.\n"
     ]
    }
   ],
   "source": [
    "numero = int(input(\"Inserisci un numero: \"))\n",
    "\n",
    "#Se input è DIVISIBILE(%) per 2 e ha resto 0 (== 0)\n",
    "if numero % 2 == 0:\n",
    "    print(numero, \"é un numero pari.\")\n",
    "else:\n",
    "    print(numero, \"è un numero dispari.\")"
   ]
  },
  {
   "cell_type": "code",
   "execution_count": null,
   "id": "c6a85c96-6765-42ec-9bdf-a6f4b0ab8443",
   "metadata": {},
   "outputs": [],
   "source": []
  },
  {
   "cell_type": "markdown",
   "id": "00238848-2b96-4d88-a040-63c221dbbbec",
   "metadata": {},
   "source": [
    "### Calcolare il Fattoriale"
   ]
  },
  {
   "cell_type": "code",
   "execution_count": 17,
   "id": "a55a5c3e-11d6-4354-8fea-ff8dd53974a7",
   "metadata": {},
   "outputs": [
    {
     "name": "stdin",
     "output_type": "stream",
     "text": [
      "Inserire un numero intero positivo:  5\n"
     ]
    },
    {
     "name": "stdout",
     "output_type": "stream",
     "text": [
      "Il fattoriale di 5 è: 120\n"
     ]
    }
   ],
   "source": [
    "n = int(input(\"Inserire un numero intero positivo: \"))\n",
    "fattoriale = 1\n",
    "\n",
    "for numero in range(1, n+1):\n",
    "    #fattoriale = fattoriale * numero\n",
    "    fattoriale *= numero\n",
    "print(\"Il fattoriale di\", n, \"è:\", fattoriale)"
   ]
  },
  {
   "cell_type": "code",
   "execution_count": null,
   "id": "2fdc7e94-b0c5-4f5b-9176-5fa1926bf055",
   "metadata": {},
   "outputs": [],
   "source": []
  },
  {
   "cell_type": "markdown",
   "id": "29523263-10ef-47d4-8204-3f07608a6507",
   "metadata": {},
   "source": [
    "### Calcolare la media di una Lista di Numeri"
   ]
  },
  {
   "cell_type": "code",
   "execution_count": 1,
   "id": "16a5f7a6-8422-4f03-98a3-e584d9b89adb",
   "metadata": {},
   "outputs": [
    {
     "name": "stdout",
     "output_type": "stream",
     "text": [
      "Quanti numeri vuoi inserire= 4\n",
      "Inserisci un numero: 3\n",
      "Inserisci un numero: 3\n",
      "Inserisci un numero: 3\n",
      "Inserisci un numero: 3\n",
      "La media dei numeri inseriti è: 3.0 [3.0, 3.0, 3.0, 3.0]\n"
     ]
    }
   ],
   "source": [
    "numeri = [] #Lista vuota di nome numeri\n",
    "\n",
    "n = int(input(\"Quanti numeri vuoi inserire= \")) #Chiede quanti numeri voglio inserire dentro la lista vuota\n",
    "\n",
    "#chiede un numero per quanto hai detto alla prima domanda\n",
    "for i in range(n):\n",
    "    numero = float(input(\"Inserisci un numero: \"))\n",
    "    numeri.append(numero) #mette il numero inserito dopo quello precedente\n",
    "    \n",
    "media = sum(numeri) / len(numeri) #Somma numeri dentro la lista e divide per lunghezza di quanti elementi ci sono\n",
    "\n",
    "print(\"La media dei numeri inseriti è:\", media, numeri)"
   ]
  },
  {
   "cell_type": "code",
   "execution_count": null,
   "id": "d3425ecf",
   "metadata": {},
   "outputs": [],
   "source": []
  },
  {
   "cell_type": "markdown",
   "id": "eb160830",
   "metadata": {},
   "source": [
    "### Gioco dell'Indovinello"
   ]
  },
  {
   "cell_type": "code",
   "execution_count": 3,
   "id": "347ba73d",
   "metadata": {},
   "outputs": [
    {
     "name": "stdout",
     "output_type": "stream",
     "text": [
      "Indovina il numero (1-100): 50\n",
      "Il numero è più piccolo\n",
      "Indovina il numero (1-100): 25\n",
      "Bravo! Hai indovinato il numero 25 in 2 tentativi\n"
     ]
    }
   ],
   "source": [
    "import random #importa la libreria del random\n",
    "\n",
    "numero_da_indovinare =random.randint(1, 100) #spara un numero da 1 a 100\n",
    "tentativi = 0\n",
    "\n",
    "#chiede un numero\n",
    "while True:\n",
    "    tentativo = int(input(\"Indovina il numero (1-100): \"))\n",
    "    tentativi += 1\n",
    "    \n",
    "    if tentativo == numero_da_indovinare:\n",
    "        print(\"Bravo! Hai indovinato il numero\", numero_da_indovinare, \"in\", tentativi, \"tentativi\")\n",
    "        break\n",
    "    elif tentativo < numero_da_indovinare:\n",
    "        print(\"Il numero è più grande\")\n",
    "    else:\n",
    "        print(\"Il numero è più piccolo\")"
   ]
  },
  {
   "cell_type": "code",
   "execution_count": null,
   "id": "b59f02c0",
   "metadata": {},
   "outputs": [],
   "source": []
  },
  {
   "cell_type": "markdown",
   "id": "d6e6cb35",
   "metadata": {},
   "source": [
    "### MORRA CINESE"
   ]
  },
  {
   "cell_type": "code",
   "execution_count": 4,
   "id": "33a557fe",
   "metadata": {},
   "outputs": [
    {
     "name": "stdout",
     "output_type": "stream",
     "text": [
      "Benvenuti al gioco del Morra Cinese!\n",
      "Scegli la tua mossa (Carta, forbici, sasso): sasso\n",
      "Il computer ha scelto: carta\n",
      "Hai Perso!\n"
     ]
    }
   ],
   "source": [
    "import random\n",
    "\n",
    "mosse = [\"carta\", \"forbice\", \"sasso\"]\n",
    "\n",
    "computer_mossa = random.choice(mosse)\n",
    "\n",
    "print(\"Benvenuti al gioco del Morra Cinese!\")\n",
    "scelta_giocatore = input(\"Scegli la tua mossa (Carta, forbici, sasso): \")\n",
    "\n",
    "if scelta_giocatore not in mosse:\n",
    "    print(\"Mossa non permessa\")\n",
    "else:\n",
    "    print(\"Il computer ha scelto:\", computer_mossa)\n",
    "    if scelta_giocatore == computer_mossa:\n",
    "        print(\"Pareggio!\")\n",
    "    elif (scelta_giocatore == \"carta\" and computer_mossa == \"sasso\") or \\\n",
    "         (scelta_giocatore == \"forbici\" and computer_mossa == \"carta\") or \\\n",
    "         (scelta_giocatore == \"sasso\" and computer_mossa == \"forbici\"):\n",
    "        print(\"Hai Vinto!\")\n",
    "    else:\n",
    "        print(\"Hai Perso!\")"
   ]
  },
  {
   "cell_type": "code",
   "execution_count": null,
   "id": "535f9a3d",
   "metadata": {},
   "outputs": [],
   "source": []
  },
  {
   "cell_type": "markdown",
   "id": "e3d2729b",
   "metadata": {},
   "source": [
    "### Calcolo del fattoriale"
   ]
  },
  {
   "cell_type": "code",
   "execution_count": 5,
   "id": "d2ce8158",
   "metadata": {},
   "outputs": [
    {
     "name": "stdout",
     "output_type": "stream",
     "text": [
      "Inserisci un numero intero: 2\n",
      "Il fattoriale di 2 è 2\n"
     ]
    }
   ],
   "source": [
    "n = int(input(\"Inserisci un numero intero: \"))\n",
    "\n",
    "fattoriale = 1\n",
    "\n",
    "if n<0:\n",
    "    print(\"Numero Negativo\")\n",
    "elif n ==0:\n",
    "    print(\"Il numero di zero è un 1 per definizione\")\n",
    "else:\n",
    "    for numero in range(1, n+1):\n",
    "        fattoriale*=numero\n",
    "print(f\"Il fattoriale di {n} è {fattoriale}\")"
   ]
  },
  {
   "cell_type": "code",
   "execution_count": null,
   "id": "103350bf",
   "metadata": {},
   "outputs": [],
   "source": []
  },
  {
   "cell_type": "markdown",
   "id": "84e17666",
   "metadata": {},
   "source": [
    "### Somma numeri n"
   ]
  },
  {
   "cell_type": "code",
   "execution_count": 6,
   "id": "9a192093",
   "metadata": {},
   "outputs": [
    {
     "name": "stdout",
     "output_type": "stream",
     "text": [
      "Inserisci un numero intero positivo N: 10\n",
      "la somma dei primi 10 numeri pari è 110\n"
     ]
    }
   ],
   "source": [
    "# Chiedere all'utente d'inserire un numero imtero positivo N\n",
    "\n",
    "N = int(input(\"Inserisci un numero intero positivo N: \"))\n",
    "\n",
    "# Inizializzare la somma a zero\n",
    "somma = 0\n",
    "\n",
    "# Calcolare la somma dei primi N numeri pari\n",
    "for numero in range(2, 2 * N + 1, 2):\n",
    "    somma += numero\n",
    "    \n",
    "# Stampare la somma\n",
    "print(f\"la somma dei primi {N} numeri pari è {somma}\")"
   ]
  },
  {
   "cell_type": "code",
   "execution_count": null,
   "id": "8efe4e8a",
   "metadata": {},
   "outputs": [],
   "source": []
  },
  {
   "cell_type": "markdown",
   "id": "147e5c65",
   "metadata": {},
   "source": [
    "### Conta vocali in una frase"
   ]
  },
  {
   "cell_type": "code",
   "execution_count": 7,
   "id": "86900eb5",
   "metadata": {},
   "outputs": [
    {
     "name": "stdout",
     "output_type": "stream",
     "text": [
      "Inserisci una frase o una parola: CIAO\n",
      "nella frase ci sono 3 vocali\n"
     ]
    }
   ],
   "source": [
    "# Chiedere all'utente d'inserire una frase o una parola\n",
    "\n",
    "frase  = input(\"Inserisci una frase o una parola: \").lower() #Converti tutto in minuscolo per semplificare il contaggio\n",
    "\n",
    "# Inizializzare il contatore delle vocali\n",
    "conteggio_vocali = 0\n",
    "\n",
    "# Definisci le vocali da cercare\n",
    "vocali = \"aeiou\"\n",
    "\n",
    "# scansione ogni carattere nella frase\n",
    "for carattere in frase:\n",
    "    # Verifica se il carattere è una vocale\n",
    "    if carattere in vocali:\n",
    "        conteggio_vocali += 1\n",
    "    \n",
    "# Stampare la somma\n",
    "print(f\"nella frase ci sono {conteggio_vocali} vocali\")"
   ]
  },
  {
   "cell_type": "code",
   "execution_count": null,
   "id": "c865876f",
   "metadata": {},
   "outputs": [],
   "source": []
  },
  {
   "cell_type": "markdown",
   "id": "07f4e2d9",
   "metadata": {},
   "source": [
    "### Indovina il numero di dado casuale (1 a 6)"
   ]
  },
  {
   "cell_type": "code",
   "execution_count": 8,
   "id": "21d5fd64",
   "metadata": {},
   "outputs": [
    {
     "name": "stdout",
     "output_type": "stream",
     "text": [
      "Indovina il numero del dado (da 1 a 6): 3\n",
      "Mi dispiae, il numero del dado era 1. Meglio fortuna la prossima volta!\n"
     ]
    }
   ],
   "source": [
    "import random\n",
    "\n",
    "# Genera un numero casuale da 1 a 6(simulando un lanco di un dado)\n",
    "numero_dado = random.randint(1, 6)\n",
    "\n",
    "# Chiedi all'utente d'indovinare il numero\n",
    "indovina = int(input(\"Indovina il numero del dado (da 1 a 6): \"))\n",
    "\n",
    "# Verifica se l'utente ha indovinato correttamente\n",
    "if indovina <1 or indovina <0:\n",
    "    print(\"numero non ammesso\")\n",
    "elif indovina == numero_dado:\n",
    "    print(f\"Complimenti il numero del dardo era {numero_dado}. Hai indovinato!\")\n",
    "else:\n",
    "    print(f\"Mi dispiae, il numero del dado era {numero_dado}. Meglio fortuna la prossima volta!\")"
   ]
  },
  {
   "cell_type": "code",
   "execution_count": null,
   "id": "26791bf7",
   "metadata": {},
   "outputs": [],
   "source": []
  },
  {
   "cell_type": "markdown",
   "id": "c0809117",
   "metadata": {},
   "source": [
    "### Simulazione popolazione"
   ]
  },
  {
   "cell_type": "code",
   "execution_count": 10,
   "id": "c134d04b",
   "metadata": {},
   "outputs": [
    {
     "name": "stdout",
     "output_type": "stream",
     "text": [
      "inserisci popolazione iniziale: 10\n",
      "Inserisci il numero di anni da simulare: 10\n",
      "Inserisci tasso natalità: 10\n",
      "Inserisci tasso mortalità: 10\n",
      "Anno 10, Popolazione 10\n",
      "Anno 10, Popolazione 10\n",
      "Anno 10, Popolazione 10\n",
      "Anno 10, Popolazione 10\n",
      "Anno 10, Popolazione 10\n",
      "Anno 10, Popolazione 10\n",
      "Anno 10, Popolazione 10\n",
      "Anno 10, Popolazione 10\n",
      "Anno 10, Popolazione 10\n",
      "Anno 10, Popolazione 10\n",
      "Simulazione completata\n"
     ]
    }
   ],
   "source": [
    "# Inizializza la popolazione e gli anni\n",
    "popolazione = int(input(\"inserisci popolazione iniziale: \"))\n",
    "anni = int(input(\"Inserisci il numero di anni da simulare: \"))\n",
    "# Tasso di natalità e tasso di mortalità (% annuale)\n",
    "tasso_natalità = float(input(\"Inserisci tasso natalità: \"))\n",
    "tasso_mortalità = float(input(\"Inserisci tasso mortalità: \"))\n",
    "\n",
    "\n",
    "# Simulazione della crescita della popolazione\n",
    "for anno in range(anni):\n",
    "    nascite = (popolazione * tasso_natalità) / 100\n",
    "    morti = (popolazione * tasso_mortalità) / 100\n",
    "    popolazione += (nascite - morti)\n",
    "    \n",
    "    print(f\"Anno {anni}, Popolazione {int(popolazione)}\")\n",
    "    \n",
    "print(\"Simulazione completata\")"
   ]
  },
  {
   "cell_type": "code",
   "execution_count": null,
   "id": "beae4051",
   "metadata": {},
   "outputs": [],
   "source": []
  },
  {
   "cell_type": "markdown",
   "id": "5fe4bf67",
   "metadata": {},
   "source": [
    "### Dire giorno ed ora con datetime"
   ]
  },
  {
   "cell_type": "code",
   "execution_count": 11,
   "id": "0599d4a2",
   "metadata": {},
   "outputs": [
    {
     "name": "stdout",
     "output_type": "stream",
     "text": [
      "oggi è il giorno: 18 03 24,  ore: 08 57 19\n"
     ]
    }
   ],
   "source": [
    "import datetime\n",
    "\n",
    "today = datetime.datetime.today()\n",
    "print(f\"oggi è il giorno:{today: %d %m %y},  ore:{today: %H %M %S}\")"
   ]
  },
  {
   "cell_type": "code",
   "execution_count": null,
   "id": "11764b66",
   "metadata": {},
   "outputs": [],
   "source": []
  },
  {
   "cell_type": "markdown",
   "id": "99b36743",
   "metadata": {},
   "source": [
    "### Calcolo interessi"
   ]
  },
  {
   "cell_type": "code",
   "execution_count": 12,
   "id": "25dfc0ad",
   "metadata": {},
   "outputs": [],
   "source": [
    "def calcola_interessi(importo_iniziale, tasso_interesse, periodi_investimento):\n",
    "    importo_finale = importo_iniziale * (1 + tasso_interesse / 100) ** periodi_investimento\n",
    "    return importo_finale"
   ]
  },
  {
   "cell_type": "code",
   "execution_count": 13,
   "id": "3d4c1e2d",
   "metadata": {},
   "outputs": [
    {
     "name": "stdout",
     "output_type": "stream",
     "text": [
      "Benvetuo nel Calolatore d'interessi!\n",
      "Inserisci l'importo iniziale: 200000\n",
      "Inserisci il tasso d'interesse annuale (%): 32\n",
      "Inserisci il periodo d'investimento (anni): 20\n",
      "l'importo finale dopo 20 anni è di 51583240.31 euro.\n"
     ]
    }
   ],
   "source": [
    "    print(\"Benvetuo nel Calolatore d'interessi!\")\n",
    "\n",
    "importo = float(input(\"Inserisci l'importo iniziale: \"))\n",
    "tasso = float(input(\"Inserisci il tasso d'interesse annuale (%): \"))\n",
    "periodo = int(input(\"Inserisci il periodo d'investimento (anni): \"))\n",
    "\n",
    "importo_finale = calcola_interessi(importo, tasso, periodo)\n",
    "\n",
    "print(f\"l'importo finale dopo {periodo} anni è di {importo_finale:.2f} euro.\")"
   ]
  },
  {
   "cell_type": "code",
   "execution_count": null,
   "id": "58b1949e",
   "metadata": {},
   "outputs": [],
   "source": []
  },
  {
   "cell_type": "markdown",
   "id": "6114f6ab",
   "metadata": {},
   "source": [
    "### Calcolo forza gravitazionale 2 pianeti"
   ]
  },
  {
   "cell_type": "code",
   "execution_count": 14,
   "id": "fd1ceae4",
   "metadata": {},
   "outputs": [],
   "source": [
    "def forza_gravitazionale(m1, m2, r):\n",
    "    #costante gravitazioamel\n",
    "    G = 6.67430e-11 #N(m/gk)^2\n",
    "    \n",
    "    #Calcola dela forza gravitazionale\n",
    "    F = (G * m1 * m2) / (r ** 2)\n",
    "    \n",
    "    return F"
   ]
  },
  {
   "cell_type": "code",
   "execution_count": 15,
   "id": "61cb4ae4",
   "metadata": {},
   "outputs": [
    {
     "name": "stdout",
     "output_type": "stream",
     "text": [
      "forza gravitazionale tra la terra e la luna: 1.9804922390990566e+20 Newton\n"
     ]
    }
   ],
   "source": [
    "#esempio di utilizzo\n",
    "massa_terra = 5.972e24 #kg\n",
    "massa_luna = 7.342e22 #kg\n",
    "distanza_terra_luna = 384400000 #metri\n",
    "\n",
    "forza = forza_gravitazionale(massa_terra, massa_luna, distanza_terra_luna)\n",
    "print(f\"forza gravitazionale tra la terra e la luna: {forza} Newton\")"
   ]
  },
  {
   "cell_type": "code",
   "execution_count": null,
   "id": "7c161df6",
   "metadata": {},
   "outputs": [],
   "source": []
  },
  {
   "cell_type": "markdown",
   "id": "3ecdd2a3",
   "metadata": {},
   "source": [
    "### Calcola anagrammi"
   ]
  },
  {
   "cell_type": "code",
   "execution_count": 19,
   "id": "7611f69b",
   "metadata": {},
   "outputs": [
    {
     "name": "stdout",
     "output_type": "stream",
     "text": [
      "Benvenuto nel risolutore di anagrammi!\n",
      "Inserisci una parola: Ricky\n",
      "gli anagrammi di 'ricky' sono: '0'\n",
      "ricyk\n",
      "gli anagrammi di 'ricky' sono: '1'\n",
      "rikcy\n",
      "gli anagrammi di 'ricky' sono: '2'\n",
      "rikyc\n",
      "gli anagrammi di 'ricky' sono: '3'\n",
      "riyck\n",
      "gli anagrammi di 'ricky' sono: '4'\n",
      "riykc\n",
      "gli anagrammi di 'ricky' sono: '5'\n",
      "rciky\n",
      "gli anagrammi di 'ricky' sono: '6'\n",
      "rciyk\n",
      "gli anagrammi di 'ricky' sono: '7'\n",
      "rckiy\n",
      "gli anagrammi di 'ricky' sono: '8'\n",
      "rckyi\n",
      "gli anagrammi di 'ricky' sono: '9'\n",
      "rcyik\n",
      "gli anagrammi di 'ricky' sono: '10'\n",
      "rcyki\n",
      "gli anagrammi di 'ricky' sono: '11'\n",
      "rkicy\n",
      "gli anagrammi di 'ricky' sono: '12'\n",
      "rkiyc\n",
      "gli anagrammi di 'ricky' sono: '13'\n",
      "rkciy\n",
      "gli anagrammi di 'ricky' sono: '14'\n",
      "rkcyi\n",
      "gli anagrammi di 'ricky' sono: '15'\n",
      "rkyic\n",
      "gli anagrammi di 'ricky' sono: '16'\n",
      "rkyci\n",
      "gli anagrammi di 'ricky' sono: '17'\n",
      "ryick\n",
      "gli anagrammi di 'ricky' sono: '18'\n",
      "ryikc\n",
      "gli anagrammi di 'ricky' sono: '19'\n",
      "rycik\n",
      "gli anagrammi di 'ricky' sono: '20'\n",
      "rycki\n",
      "gli anagrammi di 'ricky' sono: '21'\n",
      "rykic\n",
      "gli anagrammi di 'ricky' sono: '22'\n",
      "rykci\n",
      "gli anagrammi di 'ricky' sono: '23'\n",
      "ircky\n",
      "gli anagrammi di 'ricky' sono: '24'\n",
      "ircyk\n",
      "gli anagrammi di 'ricky' sono: '25'\n",
      "irkcy\n",
      "gli anagrammi di 'ricky' sono: '26'\n",
      "irkyc\n",
      "gli anagrammi di 'ricky' sono: '27'\n",
      "iryck\n",
      "gli anagrammi di 'ricky' sono: '28'\n",
      "irykc\n",
      "gli anagrammi di 'ricky' sono: '29'\n",
      "icrky\n",
      "gli anagrammi di 'ricky' sono: '30'\n",
      "icryk\n",
      "gli anagrammi di 'ricky' sono: '31'\n",
      "ickry\n",
      "gli anagrammi di 'ricky' sono: '32'\n",
      "ickyr\n",
      "gli anagrammi di 'ricky' sono: '33'\n",
      "icyrk\n",
      "gli anagrammi di 'ricky' sono: '34'\n",
      "icykr\n",
      "gli anagrammi di 'ricky' sono: '35'\n",
      "ikrcy\n",
      "gli anagrammi di 'ricky' sono: '36'\n",
      "ikryc\n",
      "gli anagrammi di 'ricky' sono: '37'\n",
      "ikcry\n",
      "gli anagrammi di 'ricky' sono: '38'\n",
      "ikcyr\n",
      "gli anagrammi di 'ricky' sono: '39'\n",
      "ikyrc\n",
      "gli anagrammi di 'ricky' sono: '40'\n",
      "ikycr\n",
      "gli anagrammi di 'ricky' sono: '41'\n",
      "iyrck\n",
      "gli anagrammi di 'ricky' sono: '42'\n",
      "iyrkc\n",
      "gli anagrammi di 'ricky' sono: '43'\n",
      "iycrk\n",
      "gli anagrammi di 'ricky' sono: '44'\n",
      "iyckr\n",
      "gli anagrammi di 'ricky' sono: '45'\n",
      "iykrc\n",
      "gli anagrammi di 'ricky' sono: '46'\n",
      "iykcr\n",
      "gli anagrammi di 'ricky' sono: '47'\n",
      "criky\n",
      "gli anagrammi di 'ricky' sono: '48'\n",
      "criyk\n",
      "gli anagrammi di 'ricky' sono: '49'\n",
      "crkiy\n",
      "gli anagrammi di 'ricky' sono: '50'\n",
      "crkyi\n",
      "gli anagrammi di 'ricky' sono: '51'\n",
      "cryik\n",
      "gli anagrammi di 'ricky' sono: '52'\n",
      "cryki\n",
      "gli anagrammi di 'ricky' sono: '53'\n",
      "cirky\n",
      "gli anagrammi di 'ricky' sono: '54'\n",
      "ciryk\n",
      "gli anagrammi di 'ricky' sono: '55'\n",
      "cikry\n",
      "gli anagrammi di 'ricky' sono: '56'\n",
      "cikyr\n",
      "gli anagrammi di 'ricky' sono: '57'\n",
      "ciyrk\n",
      "gli anagrammi di 'ricky' sono: '58'\n",
      "ciykr\n",
      "gli anagrammi di 'ricky' sono: '59'\n",
      "ckriy\n",
      "gli anagrammi di 'ricky' sono: '60'\n",
      "ckryi\n",
      "gli anagrammi di 'ricky' sono: '61'\n",
      "ckiry\n",
      "gli anagrammi di 'ricky' sono: '62'\n",
      "ckiyr\n",
      "gli anagrammi di 'ricky' sono: '63'\n",
      "ckyri\n",
      "gli anagrammi di 'ricky' sono: '64'\n",
      "ckyir\n",
      "gli anagrammi di 'ricky' sono: '65'\n",
      "cyrik\n",
      "gli anagrammi di 'ricky' sono: '66'\n",
      "cyrki\n",
      "gli anagrammi di 'ricky' sono: '67'\n",
      "cyirk\n",
      "gli anagrammi di 'ricky' sono: '68'\n",
      "cyikr\n",
      "gli anagrammi di 'ricky' sono: '69'\n",
      "cykri\n",
      "gli anagrammi di 'ricky' sono: '70'\n",
      "cykir\n",
      "gli anagrammi di 'ricky' sono: '71'\n",
      "kricy\n",
      "gli anagrammi di 'ricky' sono: '72'\n",
      "kriyc\n",
      "gli anagrammi di 'ricky' sono: '73'\n",
      "krciy\n",
      "gli anagrammi di 'ricky' sono: '74'\n",
      "krcyi\n",
      "gli anagrammi di 'ricky' sono: '75'\n",
      "kryic\n",
      "gli anagrammi di 'ricky' sono: '76'\n",
      "kryci\n",
      "gli anagrammi di 'ricky' sono: '77'\n",
      "kircy\n",
      "gli anagrammi di 'ricky' sono: '78'\n",
      "kiryc\n",
      "gli anagrammi di 'ricky' sono: '79'\n",
      "kicry\n",
      "gli anagrammi di 'ricky' sono: '80'\n",
      "kicyr\n",
      "gli anagrammi di 'ricky' sono: '81'\n",
      "kiyrc\n",
      "gli anagrammi di 'ricky' sono: '82'\n",
      "kiycr\n",
      "gli anagrammi di 'ricky' sono: '83'\n",
      "kcriy\n",
      "gli anagrammi di 'ricky' sono: '84'\n",
      "kcryi\n",
      "gli anagrammi di 'ricky' sono: '85'\n",
      "kciry\n",
      "gli anagrammi di 'ricky' sono: '86'\n",
      "kciyr\n",
      "gli anagrammi di 'ricky' sono: '87'\n",
      "kcyri\n",
      "gli anagrammi di 'ricky' sono: '88'\n",
      "kcyir\n",
      "gli anagrammi di 'ricky' sono: '89'\n",
      "kyric\n",
      "gli anagrammi di 'ricky' sono: '90'\n",
      "kyrci\n",
      "gli anagrammi di 'ricky' sono: '91'\n",
      "kyirc\n",
      "gli anagrammi di 'ricky' sono: '92'\n",
      "kyicr\n",
      "gli anagrammi di 'ricky' sono: '93'\n",
      "kycri\n",
      "gli anagrammi di 'ricky' sono: '94'\n",
      "kycir\n",
      "gli anagrammi di 'ricky' sono: '95'\n",
      "yrick\n",
      "gli anagrammi di 'ricky' sono: '96'\n",
      "yrikc\n",
      "gli anagrammi di 'ricky' sono: '97'\n",
      "yrcik\n",
      "gli anagrammi di 'ricky' sono: '98'\n",
      "yrcki\n",
      "gli anagrammi di 'ricky' sono: '99'\n",
      "yrkic\n",
      "gli anagrammi di 'ricky' sono: '100'\n",
      "yrkci\n",
      "gli anagrammi di 'ricky' sono: '101'\n",
      "yirck\n",
      "gli anagrammi di 'ricky' sono: '102'\n",
      "yirkc\n",
      "gli anagrammi di 'ricky' sono: '103'\n",
      "yicrk\n",
      "gli anagrammi di 'ricky' sono: '104'\n",
      "yickr\n",
      "gli anagrammi di 'ricky' sono: '105'\n",
      "yikrc\n",
      "gli anagrammi di 'ricky' sono: '106'\n",
      "yikcr\n",
      "gli anagrammi di 'ricky' sono: '107'\n",
      "ycrik\n",
      "gli anagrammi di 'ricky' sono: '108'\n",
      "ycrki\n",
      "gli anagrammi di 'ricky' sono: '109'\n",
      "ycirk\n",
      "gli anagrammi di 'ricky' sono: '110'\n",
      "ycikr\n",
      "gli anagrammi di 'ricky' sono: '111'\n",
      "yckri\n",
      "gli anagrammi di 'ricky' sono: '112'\n",
      "yckir\n",
      "gli anagrammi di 'ricky' sono: '113'\n",
      "ykric\n",
      "gli anagrammi di 'ricky' sono: '114'\n",
      "ykrci\n",
      "gli anagrammi di 'ricky' sono: '115'\n",
      "ykirc\n",
      "gli anagrammi di 'ricky' sono: '116'\n",
      "ykicr\n",
      "gli anagrammi di 'ricky' sono: '117'\n",
      "ykcri\n",
      "gli anagrammi di 'ricky' sono: '118'\n",
      "ykcir\n",
      "gli anagrammi di 'ricky' sono: '119'\n"
     ]
    }
   ],
   "source": [
    "from itertools import permutations\n",
    "k=0\n",
    "\n",
    "def trova_anagrammi(parola):\n",
    "    anagrammi = [\"\".join(p) for p in permutations(parola)]\n",
    "                #unisce elementi in permutations di parola\n",
    "                #for p in permutations(parola):\n",
    "                #   anagrammi = [\"\".join(p)]\n",
    "    return anagrammi\n",
    "\n",
    "print(\"Benvenuto nel risolutore di anagrammi!\")\n",
    "\n",
    "parola_input = input(\"Inserisci una parola: \").strip().lower()\n",
    "\n",
    "if len(parola_input) < 2:\n",
    "    print(\"Inserisci una parola con almeno 2 caratteri: \")\n",
    "else:\n",
    "    anagrammi = trova_anagrammi(parola_input)\n",
    "    \n",
    "    for anagramma in anagrammi:\n",
    "        if anagramma != parola_input:\n",
    "            k+=1\n",
    "            print(anagramma)\n",
    "        print(f\"gli anagrammi di '{parola_input}' sono: '{k}'\")"
   ]
  },
  {
   "cell_type": "code",
   "execution_count": null,
   "id": "d0cd4b59",
   "metadata": {},
   "outputs": [],
   "source": []
  },
  {
   "cell_type": "markdown",
   "id": "3fa467de",
   "metadata": {},
   "source": [
    "### Dizionario"
   ]
  },
  {
   "cell_type": "code",
   "execution_count": 20,
   "id": "00995a3e",
   "metadata": {},
   "outputs": [
    {
     "name": "stdout",
     "output_type": "stream",
     "text": [
      "Inserisci l'importo da convertire: 8500\n",
      "Inserisci la valuta di partenza: dollari\n",
      "Inserisci la valuta di destinazione: euro\n",
      "8500.0 dollari sono equivalenti a 7225.00 euro\n"
     ]
    }
   ],
   "source": [
    "# Definizione dei tassi di cambio\n",
    "\n",
    "tassi_di_cambio= {\n",
    "    \"dollari\": 1.0,\n",
    "    \"euro\": 0.85,\n",
    "    \"yen\": 110.41,\n",
    "    # aggiungi altre valute e tassi di cambio se necessario\n",
    "}\n",
    "\n",
    "# Chiedi all'utente d'inserire l'importo, la valuta di partenza e la valuta di destinazione\n",
    "importo = float(input(\"Inserisci l'importo da convertire: \"))\n",
    "valuta_di_partenza = input(\"Inserisci la valuta di partenza: \").lower()\n",
    "valuta_destinazione = input(\"Inserisci la valuta di destinazione: \").lower()\n",
    "\n",
    "#Verifica se le valute sono nel dizionari dei tassi di cambio\n",
    "if valuta_di_partenza in tassi_di_cambio and valuta_destinazione in tassi_di_cambio:\n",
    "    #Calcola il tasso di cambio e l'importo converitto\n",
    "    tasso_di_cambio = tassi_di_cambio[valuta_destinazione] / tassi_di_cambio[valuta_di_partenza]\n",
    "    importo_convertito = importo * tasso_di_cambio\n",
    "\n",
    "#stampa il risultato\n",
    "    print(f\"{importo} {valuta_di_partenza} sono equivalenti a {importo_convertito:.2f} {valuta_destinazione}\")\n",
    "else:\n",
    "    print(\"Valute non supportate. Assicurati di inserire valute valide.\")\n",
    "    "
   ]
  },
  {
   "cell_type": "code",
   "execution_count": 21,
   "id": "d1744596",
   "metadata": {},
   "outputs": [
    {
     "data": {
      "text/plain": [
       "0.85"
      ]
     },
     "execution_count": 21,
     "metadata": {},
     "output_type": "execute_result"
    }
   ],
   "source": [
    "tassi_di_cambio[\"euro\"]"
   ]
  },
  {
   "cell_type": "code",
   "execution_count": null,
   "id": "dad83a3d",
   "metadata": {},
   "outputs": [],
   "source": []
  },
  {
   "cell_type": "markdown",
   "id": "cc0efa5f",
   "metadata": {},
   "source": [
    "### Fuso orari"
   ]
  },
  {
   "cell_type": "code",
   "execution_count": 22,
   "id": "d7e24dd6",
   "metadata": {},
   "outputs": [
    {
     "name": "stdout",
     "output_type": "stream",
     "text": [
      "Benvenuto nell'orologio mondiale\n",
      "\n",
      "\n",
      "Città disponibili:\n",
      "New York\n",
      "Londra\n",
      "Tokyo\n",
      "Sydney\n",
      "Rio de Janeiro\n",
      "Inserisci il nome della città per visualizzare l'ora (o 'esci' per uscire): New York\n",
      "\n",
      "L'ora corrente a New York è: 04:05:44\n",
      "\n",
      "\n",
      "Città disponibili:\n",
      "New York\n",
      "Londra\n",
      "Tokyo\n",
      "Sydney\n",
      "Rio de Janeiro\n",
      "Inserisci il nome della città per visualizzare l'ora (o 'esci' per uscire): esci\n",
      "ok\n"
     ]
    }
   ],
   "source": [
    "from datetime import datetime\n",
    "import pytz\n",
    "\n",
    "print(\"Benvenuto nell'orologio mondiale\")\n",
    "\n",
    "# Definisci le città e i relativi fusi orari\n",
    "citta_fusi_orari = {\n",
    "    \"New York\": \"America/New_York\",\n",
    "    \"Londra\": \"Europe/London\",\n",
    "    \"Tokyo\": \"Asia/Tokyo\",\n",
    "    \"Sydney\": \"Australia/Sydney\",\n",
    "    \"Rio de Janeiro\": \"America/Sao_Paulo\",\n",
    "}\n",
    "\n",
    "while True:\n",
    "    print(\"\\n\\nCittà disponibili:\")\n",
    "    for citta in citta_fusi_orari.keys():\n",
    "        print(citta)\n",
    "    scelta_citta = input(\"Inserisci il nome della città per visualizzare l'ora (o 'esci' per uscire): \").strip()\n",
    "    if scelta_citta.lower() == 'esci':\n",
    "        print(\"ok\")\n",
    "        break\n",
    "\n",
    "    if scelta_citta in citta_fusi_orari.keys():\n",
    "        fuso_orario = pytz.timezone(citta_fusi_orari[scelta_citta])\n",
    "        ora_corrente = datetime.now(fuso_orario)\n",
    "        print(f\"\\nL'ora corrente a {scelta_citta} è: {ora_corrente.strftime('%H:%M:%S')}\")\n",
    "    else:\n",
    "        print(\"Città non valida. Riprova\")"
   ]
  },
  {
   "cell_type": "code",
   "execution_count": null,
   "id": "756a11bc",
   "metadata": {},
   "outputs": [],
   "source": []
  },
  {
   "cell_type": "markdown",
   "id": "0293782d",
   "metadata": {},
   "source": [
    "### Personaggi satorie e romanzi"
   ]
  },
  {
   "cell_type": "code",
   "execution_count": 23,
   "id": "a7f160b4",
   "metadata": {},
   "outputs": [
    {
     "name": "stdout",
     "output_type": "stream",
     "text": [
      "Personaggio Fantasy Generato: \n",
      "Specie: Gnomo\n",
      "Classe: Guerriero\n",
      "Arma: Bacchetta magica\n",
      "Abilità: Camuffamento, Incantesimi di guarigione\n"
     ]
    }
   ],
   "source": [
    "import random\n",
    "\n",
    "# Liste di speci, classi, armi e abilità\n",
    "speci = [\"Elfo\", \"Umano\" \"Nano\", \"Orco\", \"Gnomo\"]\n",
    "classi = [\"Guerriero\", \"Mago\", \"Ranger\", \"Ladro\", \"Chierico\"]\n",
    "armi = [\"Spada\", \"Arco\", \"Bacchetta magica\", \"Ascia\", \"Daga\"]\n",
    "abilità = [\"Furtività\", \"Magia dell'acqua\", \"Camuffamento\", \"Estrazione mineraria\", \"Incantesimi di guarigione\"]\n",
    "\n",
    "#Gebera un personaggio casuale\n",
    "specie = random.choice(speci)\n",
    "classe = random.choice(classi)\n",
    "arma = random.choice(armi)\n",
    "abilità_scelte = random.sample(abilità, random.randint(1,3))\n",
    "\n",
    "#stampa il personaggio generato\n",
    "print(f\"Personaggio Fantasy Generato: \")\n",
    "print(f\"Specie: {specie}\")\n",
    "print(f\"Classe: {classe}\")\n",
    "print(f\"Arma: {arma}\")\n",
    "print(f\"Abilità: {', '.join(abilità_scelte)}\")"
   ]
  },
  {
   "cell_type": "code",
   "execution_count": null,
   "id": "55986359",
   "metadata": {},
   "outputs": [],
   "source": []
  },
  {
   "cell_type": "code",
   "execution_count": null,
   "id": "78456a21",
   "metadata": {},
   "outputs": [],
   "source": []
  }
 ],
 "metadata": {
  "kernelspec": {
   "display_name": "Python 3 (ipykernel)",
   "language": "python",
   "name": "python3"
  },
  "language_info": {
   "codemirror_mode": {
    "name": "ipython",
    "version": 3
   },
   "file_extension": ".py",
   "mimetype": "text/x-python",
   "name": "python",
   "nbconvert_exporter": "python",
   "pygments_lexer": "ipython3",
   "version": "3.11.4"
  }
 },
 "nbformat": 4,
 "nbformat_minor": 5
}
